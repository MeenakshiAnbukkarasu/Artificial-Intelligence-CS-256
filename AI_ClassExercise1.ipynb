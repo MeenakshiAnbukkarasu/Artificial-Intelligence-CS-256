{
 "cells": [
  {
   "cell_type": "code",
   "execution_count": 33,
   "metadata": {},
   "outputs": [
    {
     "name": "stdout",
     "output_type": "stream",
     "text": [
      "   X1  X2  X3  Y\n",
      "0   0   0   0  1\n",
      "1   0   1   0  1\n",
      "2   1   0   1  0\n",
      "3   1   1   0  1\n",
      "4   1   0   0  1\n",
      "5   1   1   1  0\n",
      "6   0   1   1  0\n",
      "7   0   0   1  0\n"
     ]
    }
   ],
   "source": [
    "#Question 1\n",
    "import pandas as pd\n",
    "from collections import OrderedDict\n",
    "from datetime import  date\n",
    "\n",
    "\n",
    "table = {'X1':[0,0,1,1,1,1,0,0],\n",
    "\t\t 'X2':[0,1,0,1,0,1,1,0],\n",
    "\t\t 'X3':[0,0,1,0,0,1,1,1],\n",
    "         'Y':[1,1,0,1,1,0,0,0]\n",
    "\t\t}\n",
    "\n",
    "df=pd.DataFrame.from_dict(table)\n",
    "print (df)"
   ]
  },
  {
   "cell_type": "code",
   "execution_count": 34,
   "metadata": {},
   "outputs": [
    {
     "name": "stdout",
     "output_type": "stream",
     "text": [
      "   X1  X2  X3\n",
      "0   0   0   0\n",
      "1   0   1   0\n",
      "2   1   0   1\n",
      "3   1   1   0\n",
      "4   1   0   0\n",
      "5   1   1   1\n",
      "6   0   1   1\n",
      "7   0   0   1\n"
     ]
    }
   ],
   "source": [
    "#Question 2\n",
    "tableX = {'X1':[0,0,1,1,1,1,0,0],\n",
    "\t\t 'X2':[0,1,0,1,0,1,1,0],\n",
    "\t\t 'X3':[0,0,1,0,0,1,1,1]\n",
    "\t\t}\n",
    "\n",
    "df1=pd.DataFrame.from_dict(tableX)\n",
    "print (df1)"
   ]
  },
  {
   "cell_type": "code",
   "execution_count": 35,
   "metadata": {},
   "outputs": [
    {
     "name": "stdout",
     "output_type": "stream",
     "text": [
      "   Y\n",
      "0  1\n",
      "1  1\n",
      "2  0\n",
      "3  1\n",
      "4  1\n",
      "5  0\n",
      "6  0\n",
      "7  0\n"
     ]
    }
   ],
   "source": [
    "#Question 3\n",
    "\n",
    "tableY = {'Y':[1,1,0,1,1,0,0,0]}\n",
    "\n",
    "df2=pd.DataFrame.from_dict(tableY)\n",
    "print (df2)"
   ]
  },
  {
   "cell_type": "code",
   "execution_count": 36,
   "metadata": {},
   "outputs": [
    {
     "data": {
      "text/plain": [
       "['X1', 'X2', 'X3', 'Y']"
      ]
     },
     "execution_count": 36,
     "metadata": {},
     "output_type": "execute_result"
    }
   ],
   "source": [
    "#Question 4\n",
    "\n",
    "list(df)"
   ]
  },
  {
   "cell_type": "code",
   "execution_count": 37,
   "metadata": {},
   "outputs": [
    {
     "name": "stdout",
     "output_type": "stream",
     "text": [
      "   X1  X2  X3\n",
      "0   0   0   0\n",
      "1   0   1   0\n",
      "2   1   0   1\n",
      "3   1   1   0\n",
      "4   1   0   0\n",
      "5   1   1   1\n",
      "6   0   1   1\n",
      "7   0   0   1\n",
      "   Y\n",
      "0  1\n",
      "1  1\n",
      "2  0\n",
      "3  1\n",
      "4  1\n",
      "5  0\n",
      "6  0\n",
      "7  0\n",
      "train_test_split(X,Y,test_size=0.30) function divides the Dataframe X and Y into training set and tesing set while retaining 30% of the data for testing\n"
     ]
    }
   ],
   "source": [
    "#Question 5\n",
    "import pandas as pd\n",
    "from collections import OrderedDict\n",
    "from datetime import  date\n",
    "from sklearn.model_selection import train_test_split \n",
    "tableX = {'X1':[0,0,1,1,1,1,0,0],\n",
    "\t\t 'X2':[0,1,0,1,0,1,1,0],\n",
    "\t\t 'X3':[0,0,1,0,0,1,1,1]\n",
    "\t\t}\n",
    "tableY = {'Y':[1,1,0,1,1,0,0,0]}\n",
    "\n",
    "X=pd.DataFrame.from_dict(tableX)\n",
    "Y=pd.DataFrame.from_dict(tableY)\n",
    "print(X)\n",
    "print(Y)\n",
    "\n",
    "\n",
    "\n",
    "X_train, X_test, y_train, y_test = train_test_split(X,Y,test_size=0.30) \n",
    "\n",
    "print (\"train_test_split(X,Y,test_size=0.30) function divides the Dataframe X and Y into training set and tesing set while retaining 30% of the data for testing\")"
   ]
  },
  {
   "cell_type": "code",
   "execution_count": 38,
   "metadata": {},
   "outputs": [
    {
     "name": "stdout",
     "output_type": "stream",
     "text": [
      "X_train:\n",
      "    X1  X2  X3\n",
      "0   0   0   0\n",
      "4   1   0   0\n",
      "7   0   0   1\n",
      "5   1   1   1\n",
      "6   0   1   1\n",
      "y_train:\n",
      "    Y\n",
      "0  1\n",
      "4  1\n",
      "7  0\n",
      "5  0\n",
      "6  0\n",
      "(3, 1)\n"
     ]
    }
   ],
   "source": [
    "#Question 6\n",
    "print (\"X_train:\\n\",X_train)\n",
    "print (\"y_train:\\n\",y_train)\n",
    "print(y_test.shape)\n"
   ]
  },
  {
   "cell_type": "code",
   "execution_count": 29,
   "metadata": {},
   "outputs": [],
   "source": [
    "#Question 7\n",
    "from sklearn.tree import DecisionTreeClassifier\n",
    "\n",
    "dtree = DecisionTreeClassifier()"
   ]
  },
  {
   "cell_type": "code",
   "execution_count": 30,
   "metadata": {},
   "outputs": [
    {
     "data": {
      "text/plain": [
       "DecisionTreeClassifier(class_weight=None, criterion='gini', max_depth=None,\n",
       "            max_features=None, max_leaf_nodes=None,\n",
       "            min_impurity_decrease=0.0, min_impurity_split=None,\n",
       "            min_samples_leaf=1, min_samples_split=2,\n",
       "            min_weight_fraction_leaf=0.0, presort=False, random_state=None,\n",
       "            splitter='best')"
      ]
     },
     "execution_count": 30,
     "metadata": {},
     "output_type": "execute_result"
    }
   ],
   "source": [
    "#Question 8\n",
    "dtree.fit(X_train, y_train)"
   ]
  },
  {
   "cell_type": "code",
   "execution_count": 31,
   "metadata": {},
   "outputs": [
    {
     "name": "stdout",
     "output_type": "stream",
     "text": [
      "Test_Accuracy: 1.00\n"
     ]
    }
   ],
   "source": [
    "#Question 9,10\n",
    "from sklearn.metrics import accuracy_score\n",
    "y_pred_test = dtree.predict(X_test)\n",
    "\n",
    "print('Test_Accuracy: %.2f' %accuracy_score(y_test, y_pred_test))"
   ]
  },
  {
   "cell_type": "code",
   "execution_count": 32,
   "metadata": {},
   "outputs": [
    {
     "ename": "ModuleNotFoundError",
     "evalue": "No module named 'pydotplus'",
     "output_type": "error",
     "traceback": [
      "\u001b[0;31m---------------------------------------------------------------------------\u001b[0m",
      "\u001b[0;31mModuleNotFoundError\u001b[0m                       Traceback (most recent call last)",
      "\u001b[0;32m<ipython-input-32-30915a7250d2>\u001b[0m in \u001b[0;36m<module>\u001b[0;34m()\u001b[0m\n\u001b[1;32m      3\u001b[0m \u001b[0;32mfrom\u001b[0m \u001b[0msklearn\u001b[0m\u001b[0;34m.\u001b[0m\u001b[0mtree\u001b[0m \u001b[0;32mimport\u001b[0m \u001b[0mexport_graphviz\u001b[0m\u001b[0;34m\u001b[0m\u001b[0m\n\u001b[1;32m      4\u001b[0m \u001b[0;32mfrom\u001b[0m \u001b[0mIPython\u001b[0m\u001b[0;34m.\u001b[0m\u001b[0mdisplay\u001b[0m \u001b[0;32mimport\u001b[0m \u001b[0mImage\u001b[0m\u001b[0;34m\u001b[0m\u001b[0m\n\u001b[0;32m----> 5\u001b[0;31m \u001b[0;32mimport\u001b[0m \u001b[0mpydotplus\u001b[0m\u001b[0;34m\u001b[0m\u001b[0m\n\u001b[0m\u001b[1;32m      6\u001b[0m \u001b[0mdot_data\u001b[0m \u001b[0;34m=\u001b[0m \u001b[0mStringIO\u001b[0m\u001b[0;34m(\u001b[0m\u001b[0;34m)\u001b[0m\u001b[0;34m\u001b[0m\u001b[0m\n\u001b[1;32m      7\u001b[0m \u001b[0mfeatures\u001b[0m\u001b[0;34m=\u001b[0m\u001b[0mX\u001b[0m\u001b[0;34m.\u001b[0m\u001b[0mcolumns\u001b[0m\u001b[0;34m\u001b[0m\u001b[0m\n",
      "\u001b[0;31mModuleNotFoundError\u001b[0m: No module named 'pydotplus'"
     ]
    }
   ],
   "source": [
    "#Question11\n",
    "from sklearn.externals.six import StringIO\n",
    "from sklearn.tree import export_graphviz\n",
    "from IPython.display import Image\n",
    "import pydotplus\n",
    "dot_data = StringIO()\n",
    "features=X.columns\n",
    "export_graphviz(dtree,\n",
    "out_file=dot_data,\n",
    "feature_names=features,\n",
    "class_names=['0','1'],\n",
    "filled=True, rounded=True,\n",
    "impurity=False)\n",
    "\n",
    "graph = pydotplus.graph_from_dot_data(dot_data.getvalue())\n",
    "graph.write_png(\"tree.png\")\n",
    "\n",
    "Image(filename='tree.png')"
   ]
  },
  {
   "cell_type": "code",
   "execution_count": null,
   "metadata": {},
   "outputs": [],
   "source": []
  },
  {
   "cell_type": "code",
   "execution_count": null,
   "metadata": {},
   "outputs": [],
   "source": []
  }
 ],
 "metadata": {
  "kernelspec": {
   "display_name": "Python 3",
   "language": "python",
   "name": "python3"
  },
  "language_info": {
   "codemirror_mode": {
    "name": "ipython",
    "version": 3
   },
   "file_extension": ".py",
   "mimetype": "text/x-python",
   "name": "python",
   "nbconvert_exporter": "python",
   "pygments_lexer": "ipython3",
   "version": "3.6.5"
  }
 },
 "nbformat": 4,
 "nbformat_minor": 2
}
