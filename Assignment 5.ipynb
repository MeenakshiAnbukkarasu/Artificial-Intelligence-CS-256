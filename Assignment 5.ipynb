{
 "cells": [
  {
   "cell_type": "code",
   "execution_count": 2,
   "metadata": {},
   "outputs": [],
   "source": [
    "# Question 1 \n",
    "\n",
    "from sklearn import datasets\n",
    "\n",
    "wine = datasets.load_wine()\n"
   ]
  },
  {
   "cell_type": "code",
   "execution_count": 3,
   "metadata": {},
   "outputs": [
    {
     "name": "stdout",
     "output_type": "stream",
     "text": [
      "['alcohol', 'malic_acid', 'ash', 'alcalinity_of_ash', 'magnesium', 'total_phenols', 'flavanoids', 'nonflavanoid_phenols', 'proanthocyanins', 'color_intensity', 'hue', 'od280/od315_of_diluted_wines', 'proline']\n"
     ]
    }
   ],
   "source": [
    "# Question 2\n",
    "\n",
    "print(list(wine.feature_names))"
   ]
  },
  {
   "cell_type": "code",
   "execution_count": 4,
   "metadata": {},
   "outputs": [
    {
     "name": "stdout",
     "output_type": "stream",
     "text": [
      "['class_0', 'class_1', 'class_2']\n"
     ]
    }
   ],
   "source": [
    "# Question 3\n",
    "\n",
    "print(list(wine.target_names))"
   ]
  },
  {
   "cell_type": "code",
   "execution_count": 5,
   "metadata": {},
   "outputs": [],
   "source": [
    "# Question 4\n",
    "\n",
    "from sklearn.datasets import load_wine\n",
    "X, Y = load_wine(return_X_y=True)\n"
   ]
  },
  {
   "cell_type": "code",
   "execution_count": 6,
   "metadata": {},
   "outputs": [
    {
     "name": "stdout",
     "output_type": "stream",
     "text": [
      "X Type: <class 'numpy.ndarray'>\n",
      "Y Type: <class 'numpy.ndarray'>\n",
      "X Dimension: (178, 13)\n",
      "Y Dimension: (178,)\n"
     ]
    }
   ],
   "source": [
    "# Question 6\n",
    "\n",
    "print(\"X Type:\",type(X))\n",
    "print(\"Y Type:\",type(Y))\n",
    "\n",
    "# X and Y are of numpy.ndarray type\n",
    "# X has 178 rows and 13 columns\n",
    "# Y has 178 rows and 1 column\n",
    "\n",
    "print(\"X Dimension:\",X.data.shape)\n",
    "print(\"Y Dimension:\",Y.data.shape)"
   ]
  },
  {
   "cell_type": "code",
   "execution_count": 8,
   "metadata": {},
   "outputs": [],
   "source": [
    "# Question 7\n",
    "\n",
    "from sklearn.model_selection import train_test_split \n",
    "X_train, X_test, y_train, y_test = train_test_split(X, Y,test_size=0.30, random_state=1)\n",
    "\n",
    "#random_state spilits the dataset into fixed number of training and test set every time you run the code.\n",
    "#It can be any integer.\n"
   ]
  },
  {
   "cell_type": "code",
   "execution_count": 9,
   "metadata": {},
   "outputs": [],
   "source": [
    "# Question 8\n",
    "\n",
    "from sklearn.tree import DecisionTreeClassifier\n",
    "\n",
    "D_tree = DecisionTreeClassifier()\n",
    "D_tree.fit(X_train, y_train)\n",
    "y_pred_test = D_tree.predict(X_test)\n",
    "y_pred_train = D_tree.predict(X_train)"
   ]
  },
  {
   "cell_type": "code",
   "execution_count": 10,
   "metadata": {},
   "outputs": [
    {
     "name": "stdout",
     "output_type": "stream",
     "text": [
      "Test_Accuracy: 0.94\n"
     ]
    }
   ],
   "source": [
    "# Question 9\n",
    "\n",
    "from sklearn.metrics import accuracy_score\n",
    "print('Test_Accuracy: %.2f' %accuracy_score(y_test, y_pred_test))\n"
   ]
  },
  {
   "cell_type": "code",
   "execution_count": null,
   "metadata": {},
   "outputs": [],
   "source": [
    "# Question 10\n",
    "\n",
    "print('Train_Accuracy: %.2f' %accuracy_score(y_train, y_pred_train))"
   ]
  },
  {
   "cell_type": "code",
   "execution_count": 11,
   "metadata": {},
   "outputs": [
    {
     "name": "stdout",
     "output_type": "stream",
     "text": [
      "Train_Accuracy: 1.00\n"
     ]
    }
   ],
   "source": [
    "# Question 11\n",
    "\n",
    "# Training Accuracy is better than testing."
   ]
  },
  {
   "cell_type": "code",
   "execution_count": 12,
   "metadata": {},
   "outputs": [],
   "source": [
    "# Question 12\n",
    "\n",
    "from sklearn.ensemble import BaggingClassifier\n",
    "\n",
    "tree = DecisionTreeClassifier(criterion='gini', random_state=100, max_depth=None)\n",
    "bag = BaggingClassifier(base_estimator=tree, n_estimators=100, max_samples=1.0, max_features=4, bootstrap=True,\n",
    "bootstrap_features=False, n_jobs=1, random_state=1)\n",
    "\n"
   ]
  },
  {
   "cell_type": "code",
   "execution_count": 13,
   "metadata": {},
   "outputs": [],
   "source": [
    "# Question 13\n",
    "\n",
    "bag.fit(X_train, y_train)\n",
    "y_bag_pred_test = bag.predict(X_test)\n",
    "y_bag_pred_train = bag.predict(X_train)"
   ]
  },
  {
   "cell_type": "code",
   "execution_count": null,
   "metadata": {},
   "outputs": [],
   "source": [
    "# Question 14\n",
    "from sklearn.metrics import accuracy_score\n",
    "\n",
    "print('Test_Accuracy: %.2f' %accuracy_score(y_test, y_bag_pred_test))\n",
    "\n",
    "print('Train_Accuracy: %.2f' %accuracy_score(y_train, y_bag_pred_train))\n"
   ]
  },
  {
   "cell_type": "code",
   "execution_count": null,
   "metadata": {},
   "outputs": [],
   "source": [
    "# Question 15\n",
    "\n",
    "# Yes,the bagged classifier improve on the accuracy of just using a single decision tree classifier."
   ]
  },
  {
   "cell_type": "code",
   "execution_count": 18,
   "metadata": {},
   "outputs": [
    {
     "name": "stdout",
     "output_type": "stream",
     "text": [
      "Test_Accuracy: 1.00\n",
      "Train_Accuracy: 1.00\n"
     ]
    }
   ],
   "source": [
    "\n",
    "\n"
   ]
  }
 ],
 "metadata": {
  "kernelspec": {
   "display_name": "Python 3",
   "language": "python",
   "name": "python3"
  },
  "language_info": {
   "codemirror_mode": {
    "name": "ipython",
    "version": 3
   },
   "file_extension": ".py",
   "mimetype": "text/x-python",
   "name": "python",
   "nbconvert_exporter": "python",
   "pygments_lexer": "ipython3",
   "version": "3.6.5"
  }
 },
 "nbformat": 4,
 "nbformat_minor": 2
}
