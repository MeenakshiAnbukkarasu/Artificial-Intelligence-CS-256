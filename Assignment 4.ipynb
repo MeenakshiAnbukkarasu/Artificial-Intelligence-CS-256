{
 "cells": [
  {
   "cell_type": "code",
   "execution_count": 82,
   "metadata": {},
   "outputs": [
    {
     "data": {
      "image/png": "[encoded data removed]",
      "text/plain": [
       "<Figure size 432x288 with 1 Axes>"
      ]
     },
     "metadata": {},
     "output_type": "display_data"
    }
   ],
   "source": [
    "import numpy as np \n",
    "import matplotlib.pyplot as plt\n",
    "mu, sigma = 0, 1 # mean and standard deviation\n",
    "X1=np.random.normal(mu, sigma, 100)\n",
    "\n",
    "mu, sigma = 1, 1 # mean and standard deviation\n",
    "X2 = np.random.normal(mu, sigma, 100)\n",
    "\n",
    "plt.scatter(X1,X2, s=50)\n",
    "plt.show()"
   ]
  },
  {
   "cell_type": "code",
   "execution_count": 83,
   "metadata": {},
   "outputs": [
    {
     "data": {
      "image/png": "[encoded data removed]",
      "text/plain": [
       "<Figure size 432x288 with 1 Axes>"
      ]
     },
     "metadata": {},
     "output_type": "display_data"
    }
   ],
   "source": [
    "C1=np.vstack((X1, X2)).T\n",
    "\n",
    "y_C1 = np.zeros(C1.shape[0])\n",
    "\n",
    "mu, sigma = 0, 1 # mean and standard deviation\n",
    "X1=np.random.normal(mu, sigma, 100)\n",
    "\n",
    "mu, sigma = -2, 1 # mean and standard deviation\n",
    "X2 = np.random.normal(mu, sigma, 100)\n",
    "\n",
    "plt.scatter(X1,X2, s=50, c='y')\n",
    "plt.show()"
   ]
  },
  {
   "cell_type": "code",
   "execution_count": 84,
   "metadata": {},
   "outputs": [],
   "source": [
    "C2=np.vstack((X1, X2)).T\n",
    "\n",
    "y_C2 = np.ones(C2.shape[0])\n",
    "\n",
    "C2=np.vstack((X1, X2)).T\n",
    "\n",
    "X= np.vstack((C1,C2))\n",
    "\n",
    "y= np.vstack((np.array([y_C1]).T, np.array([y_C2]).T))\n",
    "             "
   ]
  },
  {
   "cell_type": "code",
   "execution_count": 85,
   "metadata": {},
   "outputs": [
    {
     "name": "stdout",
     "output_type": "stream",
     "text": [
      "Test_Accuracy: 0.98\n"
     ]
    }
   ],
   "source": [
    "from sklearn.model_selection import train_test_split\n",
    "from sklearn.linear_model import LogisticRegression\n",
    "from sklearn.metrics import accuracy_score\n",
    "\n",
    "X_train, X_test, y_train, y_test = train_test_split(X,y,test_size=0.30,random_state=1)\n",
    "\n",
    "lgr = LogisticRegression()\n",
    "\n",
    "lgr.fit(X_train,y_train.ravel())\n",
    "\n",
    "\n",
    "y_pred_test_lgr = lgr.predict(X_test)\n",
    "\n",
    "print('Test_Accuracy: %.2f' %accuracy_score(y_test, y_pred_test_lgr))"
   ]
  },
  {
   "cell_type": "code",
   "execution_count": 86,
   "metadata": {},
   "outputs": [
    {
     "name": "stdout",
     "output_type": "stream",
     "text": [
      "Test_Accuracy: 0.98\n"
     ]
    }
   ],
   "source": [
    "from sklearn.naive_bayes import GaussianNB\n",
    "clf = GaussianNB()\n",
    "\n",
    "clf.fit(X_train,y_train.ravel())\n",
    "\n",
    "y_pred_test_GNB = clf.predict(X_test)\n",
    "\n",
    "print('Test_Accuracy: %.2f' %accuracy_score(y_test, y_pred_test_GNB))"
   ]
  },
  {
   "cell_type": "code",
   "execution_count": 87,
   "metadata": {},
   "outputs": [],
   "source": [
    "# Question 2\n",
    "# Create two random samples X1,X2 from a normal (Gaussian) distribution of size 100.\n",
    "# (mean,SD) are (0,1) and (1,1) for X1 and X2 respectively.\n",
    "# C1 is computed as transpose of np stack created using X1 and X2.\n",
    "# new X1 and X2 are computed with (mean, SD) as (0,1) (-2,1) for X1 and X2 respectively.\n",
    "# C2 is computed like C1 by using the new X1 and X2.\n",
    "# y_C1 is a np array of zeros and y_C2 is np array of ones.\n",
    "# Input Classes X is np stack of C1 and C2.\n",
    "# Target Class y is a np stack of transposes of y_C1 and y_C2\n"
   ]
  },
  {
   "cell_type": "code",
   "execution_count": 88,
   "metadata": {},
   "outputs": [],
   "source": [
    "# Question 3\n",
    "\n",
    "from sklearn.model_selection import train_test_split\n",
    "\n",
    "\n",
    "# Changed C2 mean and Standard deviation equal to C1\n",
    "\n",
    "mu, sigma = 0, 1 # mean and standard deviation\n",
    "X1=np.random.normal(mu, sigma, 100)\n",
    "\n",
    "mu, sigma = 1, 1 # mean and standard deviation\n",
    "X2 = np.random.normal(mu, sigma, 100)\n",
    "\n",
    "C2=np.vstack((X1, X2)).T\n",
    "\n",
    "y_C2 = np.ones(C2.shape[0])\n",
    "\n",
    "C2=np.vstack((X1, X2)).T\n",
    "\n",
    "X= np.vstack((C1,C2))\n",
    "\n",
    "y= np.vstack((np.array([y_C1]).T, np.array([y_C2]).T))\n",
    "\n",
    "\n",
    "X_train, X_test, y_train, y_test = train_test_split(X,y,test_size=0.30,random_state=1)\n",
    "\n",
    "\n"
   ]
  },
  {
   "cell_type": "code",
   "execution_count": 89,
   "metadata": {},
   "outputs": [
    {
     "name": "stdout",
     "output_type": "stream",
     "text": [
      "Test_Accuracy: 0.52\n"
     ]
    }
   ],
   "source": [
    "# Question 3\n",
    "\n",
    "## Logistic Regression ##\n",
    "\n",
    "from sklearn.linear_model import LogisticRegression\n",
    "from sklearn.metrics import accuracy_score\n",
    "\n",
    "lgr = LogisticRegression()\n",
    "\n",
    "lgr.fit(X_train,y_train.ravel())\n",
    "\n",
    "\n",
    "y_pred_test_lgr = lgr.predict(X_test)\n",
    "\n",
    "print('Test_Accuracy: %.2f' %accuracy_score(y_test, y_pred_test_lgr))"
   ]
  },
  {
   "cell_type": "code",
   "execution_count": 90,
   "metadata": {},
   "outputs": [
    {
     "name": "stdout",
     "output_type": "stream",
     "text": [
      "Test_Accuracy: 0.50\n"
     ]
    }
   ],
   "source": [
    "# Question 3\n",
    "\n",
    "## Gaussian Naive Bayes ##\n",
    "\n",
    "from sklearn.metrics import accuracy_score\n",
    "from sklearn.naive_bayes import GaussianNB\n",
    "\n",
    "clf = GaussianNB()\n",
    "\n",
    "clf.fit(X_train,y_train.ravel())\n",
    "\n",
    "y_pred_test_GNB = clf.predict(X_test)\n",
    "\n",
    "print('Test_Accuracy: %.2f' %accuracy_score(y_test, y_pred_test_GNB))"
   ]
  },
  {
   "cell_type": "code",
   "execution_count": 91,
   "metadata": {},
   "outputs": [],
   "source": [
    "# Accuracy has drastically decreased when mean,SD of C2 is equal to C1. \n"
   ]
  },
  {
   "cell_type": "code",
   "execution_count": null,
   "metadata": {},
   "outputs": [],
   "source": []
  }
 ],
 "metadata": {
  "kernelspec": {
   "display_name": "Python 3",
   "language": "python",
   "name": "python3"
  },
  "language_info": {
   "codemirror_mode": {
    "name": "ipython",
    "version": 3
   },
   "file_extension": ".py",
   "mimetype": "text/x-python",
   "name": "python",
   "nbconvert_exporter": "python",
   "pygments_lexer": "ipython3",
   "version": "3.6.5"
  }
 },
 "nbformat": 4,
 "nbformat_minor": 2
}
